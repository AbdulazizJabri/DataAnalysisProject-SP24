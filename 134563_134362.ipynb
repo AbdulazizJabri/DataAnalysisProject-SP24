{
 "cells": [
  {
   "cell_type": "markdown",
   "metadata": {},
   "source": [
    "#### COMP3602: Data Analysis and Visualization with Python, Spring 2024\n",
    "\n",
    "# Project Part 1\n",
    "\n",
    "Source URL of Dataset: [https://www.kaggle.com/datasets/teamincribo/cyber-security-attacks](https://www.kaggle.com/datasets/teamincribo/cyber-security-attacks)\n",
    "\n",
    "**Group Members:**\n",
    "\n",
    "- Abdulaziz Saud Al Jabri (134563)\n",
    "\n",
    "- Mazin Humood Al Dhuhli (134362)\n",
    "\n",
    "\n",
    "---"
   ]
  },
  {
   "cell_type": "markdown",
   "metadata": {},
   "source": [
    "### Dataset Introduction:\n",
    "\n",
    "*A short introduction describing the dataset field or area, it’s purpose and what you aim to learn from analyzing this dataset*\n",
    "\n",
    "Cybersecurity attack datasets hold the key to understanding cyber threats. They provide valuable information for training security models to detect and prevent attacks, revealing insights into evolving attacker tactics and enabling researchers to benchmark security tools. By analyzing these datasets, researchers can answer crucial questions like the most prevalent attack types, how attack methods shift over time, and how effective machine learning models are in real-time attack identification. Ultimately, this exploration provides researchers ways to develop more robust defenses and stay ahead of the ever-changing threat landscape.\n",
    "\n",
    "* Purpose:\n",
    "    - Train security models (e.g., malware detection).\n",
    "    - Understand attack patterns and trends.\n",
    "    - Benchmark security tools.\n",
    "\n",
    "---"
   ]
  },
  {
   "cell_type": "code",
   "execution_count": 8,
   "metadata": {},
   "outputs": [],
   "source": [
    "import pandas as pd\n",
    "import numpy as np"
   ]
  },
  {
   "cell_type": "code",
   "execution_count": null,
   "metadata": {},
   "outputs": [],
   "source": [
    "data = pd.read_csv('cybersecurity_attacks.csv')\n",
    "data.head()"
   ]
  },
  {
   "cell_type": "markdown",
   "metadata": {},
   "source": [
    "---\n",
    "Show the **maximum** values for each attribute"
   ]
  },
  {
   "cell_type": "code",
   "execution_count": 9,
   "metadata": {},
   "outputs": [
    {
     "name": "stdout",
     "output_type": "stream",
     "text": [
      "Timestamp                                               2023-10-11 19:34:23\n",
      "Source IP Address                                             99.99.250.252\n",
      "Destination IP Address                                         99.98.160.72\n",
      "Source Port                                                           65530\n",
      "Destination Port                                                      65535\n",
      "Protocol                                                                UDP\n",
      "Packet Length                                                          1500\n",
      "Packet Type                                                            Data\n",
      "Traffic Type                                                           HTTP\n",
      "Payload Data              Voluptatum voluptatibus vel tempora harum non ...\n",
      "Anomaly Scores                                                        100.0\n",
      "Attack Type                                                         Malware\n",
      "Attack Signature                                            Known Pattern B\n",
      "Action Taken                                                         Logged\n",
      "Severity Level                                                       Medium\n",
      "User Information                                              Zoya Yohannan\n",
      "Device Information        Opera/9.99.(X11; Linux x86_64; zh-TW) Presto/2...\n",
      "Network Segment                                                   Segment C\n",
      "Geo-location Data                                  Yamunanagar, West Bengal\n",
      "Log Source                                                           Server\n",
      "dtype: object\n"
     ]
    },
    {
     "name": "stderr",
     "output_type": "stream",
     "text": [
      "C:\\Users\\Abdulaziz\\AppData\\Local\\Temp\\ipykernel_5804\\2227191748.py:1: FutureWarning: The default value of numeric_only in DataFrame.max is deprecated. In a future version, it will default to False. In addition, specifying 'numeric_only=None' is deprecated. Select only valid columns or specify the value of numeric_only to silence this warning.\n",
      "  max_values = data.max()\n"
     ]
    }
   ],
   "source": [
    "max_values = data.max()\n",
    "print(max_values)"
   ]
  },
  {
   "cell_type": "markdown",
   "metadata": {},
   "source": [
    "---\n",
    "Show the **minimum** values for each attribute"
   ]
  },
  {
   "cell_type": "code",
   "execution_count": 10,
   "metadata": {},
   "outputs": [
    {
     "name": "stdout",
     "output_type": "stream",
     "text": [
      "Timestamp                                               2020-01-01 00:43:27\n",
      "Source IP Address                                                1.1.45.194\n",
      "Destination IP Address                                          1.1.189.171\n",
      "Source Port                                                            1027\n",
      "Destination Port                                                       1024\n",
      "Protocol                                                               ICMP\n",
      "Packet Length                                                            64\n",
      "Packet Type                                                         Control\n",
      "Traffic Type                                                            DNS\n",
      "Payload Data              A ab tempora a. Culpa et fuga maxime. Quia ad ...\n",
      "Anomaly Scores                                                          0.0\n",
      "Attack Type                                                            DDoS\n",
      "Attack Signature                                            Known Pattern A\n",
      "Action Taken                                                        Blocked\n",
      "Severity Level                                                         High\n",
      "User Information                                            Aaina Ahluwalia\n",
      "Device Information        Mozilla/5.0 (Android 1.0; Mobile; rv:14.0) Gec...\n",
      "Network Segment                                                   Segment A\n",
      "Geo-location Data                                     Adoni, Andhra Pradesh\n",
      "Log Source                                                         Firewall\n",
      "dtype: object\n"
     ]
    },
    {
     "name": "stderr",
     "output_type": "stream",
     "text": [
      "C:\\Users\\Abdulaziz\\AppData\\Local\\Temp\\ipykernel_5804\\2146750465.py:1: FutureWarning: The default value of numeric_only in DataFrame.min is deprecated. In a future version, it will default to False. In addition, specifying 'numeric_only=None' is deprecated. Select only valid columns or specify the value of numeric_only to silence this warning.\n",
      "  min_values = data.min()\n"
     ]
    }
   ],
   "source": [
    "min_values = data.min()\n",
    "print(min_values)"
   ]
  },
  {
   "cell_type": "markdown",
   "metadata": {},
   "source": [
    "---\n",
    "Show the 25th, 50th and 75th percentile of the dataset"
   ]
  },
  {
   "cell_type": "code",
   "execution_count": 11,
   "metadata": {},
   "outputs": [
    {
     "name": "stdout",
     "output_type": "stream",
     "text": [
      "      Source Port  Destination Port  Packet Length  Anomaly Scores\n",
      "0.25     16850.75          17094.75          420.0          25.150\n",
      "0.50     32856.00          33004.50          782.0          50.345\n",
      "0.75     48928.25          49287.00         1143.0          75.030\n"
     ]
    },
    {
     "name": "stderr",
     "output_type": "stream",
     "text": [
      "C:\\Users\\Abdulaziz\\AppData\\Local\\Temp\\ipykernel_5804\\4077374767.py:1: FutureWarning: The default value of numeric_only in DataFrame.quantile is deprecated. In a future version, it will default to False. Select only valid columns or specify the value of numeric_only to silence this warning.\n",
      "  percentiles = data.quantile([0.25, 0.5, 0.75])\n"
     ]
    }
   ],
   "source": [
    "percentiles = data.quantile([0.25, 0.5, 0.75])\n",
    "print(percentiles)"
   ]
  },
  {
   "cell_type": "markdown",
   "metadata": {},
   "source": [
    "---\n",
    "Show the number of missing values for each attribute"
   ]
  },
  {
   "cell_type": "code",
   "execution_count": 12,
   "metadata": {},
   "outputs": [
    {
     "name": "stdout",
     "output_type": "stream",
     "text": [
      "Timestamp                     0\n",
      "Source IP Address             0\n",
      "Destination IP Address        0\n",
      "Source Port                   0\n",
      "Destination Port              0\n",
      "Protocol                      0\n",
      "Packet Length                 0\n",
      "Packet Type                   0\n",
      "Traffic Type                  0\n",
      "Payload Data                  0\n",
      "Malware Indicators        20000\n",
      "Anomaly Scores                0\n",
      "Alerts/Warnings           20067\n",
      "Attack Type                   0\n",
      "Attack Signature              0\n",
      "Action Taken                  0\n",
      "Severity Level                0\n",
      "User Information              0\n",
      "Device Information            0\n",
      "Network Segment               0\n",
      "Geo-location Data             0\n",
      "Proxy Information         19851\n",
      "Firewall Logs             19961\n",
      "IDS/IPS Alerts            20050\n",
      "Log Source                    0\n",
      "dtype: int64\n"
     ]
    }
   ],
   "source": [
    "num_missing_data = data.isnull().sum()\n",
    "print(num_missing_data)"
   ]
  }
 ],
 "metadata": {
  "kernelspec": {
   "display_name": "Python 3",
   "language": "python",
   "name": "python3"
  },
  "language_info": {
   "codemirror_mode": {
    "name": "ipython",
    "version": 3
   },
   "file_extension": ".py",
   "mimetype": "text/x-python",
   "name": "python",
   "nbconvert_exporter": "python",
   "pygments_lexer": "ipython3",
   "version": "3.10.11"
  }
 },
 "nbformat": 4,
 "nbformat_minor": 2
}

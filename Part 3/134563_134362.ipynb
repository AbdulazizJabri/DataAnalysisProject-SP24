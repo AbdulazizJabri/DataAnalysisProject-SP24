{
 "cells": [
  {
   "cell_type": "markdown",
   "metadata": {},
   "source": [
    "#### COMP3602: Data Analysis and Visualization with Python, Spring 2024\n",
    "\n",
    "# Project Part 3\n",
    "\n",
    "Source URL of Dataset: [https://www.kaggle.com/datasets/teamincribo/cyber-security-attacks](https://www.kaggle.com/datasets/teamincribo/cyber-security-attacks)\n",
    "\n",
    "**Group Members:**\n",
    "\n",
    "- Abdulaziz Saud Al Jabri (134563)\n",
    "\n",
    "- Mazin Humood Al Dhuhli (134362)\n",
    "\n",
    "\n",
    "---"
   ]
  },
  {
   "cell_type": "markdown",
   "metadata": {},
   "source": [
    "Predictive Modeling and Evaluation of a dataset is a crucial step in the data analysis process. It helps to understand the data better and make predictions based on the data. This project part will focus on building a predictive model for the cyber attacks dataset. After that we will use Hyper-parameter tuning to improve the model performance. Finally, we will evaluate the model using different evaluation metrics.\n",
    "\n",
    "---"
   ]
  },
  {
   "cell_type": "code",
   "execution_count": null,
   "metadata": {},
   "outputs": [],
   "source": [
    "import pandas as pd\n",
    "import numpy as np\n",
    "import matplotlib.pyplot as plt\n",
    "from sklearn.model_selection import train_test_split\n",
    "from sklearn.neighbors import KNeighborsClassifier\n",
    "from sklearn.metrics import accuracy_score\n",
    "from sklearn import tree\n",
    "from sklearn.tree import DecisionTreeClassifier"
   ]
  },
  {
   "cell_type": "code",
   "execution_count": null,
   "metadata": {},
   "outputs": [],
   "source": [
    "data = pd.read_csv('cybersecurity_attacks.csv')\n",
    "data.head()"
   ]
  },
  {
   "cell_type": "markdown",
   "metadata": {},
   "source": [
    "--- \n",
    "\n",
    "Pre-Processing"
   ]
  },
  {
   "cell_type": "code",
   "execution_count": null,
   "metadata": {},
   "outputs": [],
   "source": [
    "# Fill Missing Data\n",
    "df = pd.DataFrame(data)\n",
    "df_clean = df.apply(lambda x: x.fillna(x.value_counts().index[0]))\n",
    "df_clean.head()\n",
    "\n",
    "# Encode from Categorical to Numerical\n",
    "from sklearn.preprocessing import LabelEncoder\n",
    "labelencoder = LabelEncoder()\n",
    "data['Timestamp'] = labelencoder.fit_transform(data['Timestamp'])\n",
    "data['Source IP Address'] = labelencoder.fit_transform(data['Source IP Address'])\n",
    "data['Destination IP Address'] = labelencoder.fit_transform(data['Destination IP Address'])\n",
    "data['Protocol'] = labelencoder.fit_transform(data['Protocol'])\n",
    "data['Packet Type'] = labelencoder.fit_transform(data['Packet Type'])\n",
    "data['Traffic Type'] = labelencoder.fit_transform(data['Traffic Type'])\n",
    "data['Payload Data'] = labelencoder.fit_transform(data['Payload Data'])\n",
    "data['Malware Indicators'] = labelencoder.fit_transform(data['Malware Indicators'])\n",
    "data['Alerts/Warnings'] = labelencoder.fit_transform(data['Alerts/Warnings'])\n",
    "data['Attack Type'] = labelencoder.fit_transform(data['Attack Type'])\n",
    "data['Attack Signature'] = labelencoder.fit_transform(data['Attack Signature'])\n",
    "data['Action Taken'] = labelencoder.fit_transform(data['Action Taken'])\n",
    "data['Severity Level'] = labelencoder.fit_transform(data['Severity Level'])\n",
    "data['User Information'] = labelencoder.fit_transform(data['User Information'])\n",
    "data['Network Segment'] = labelencoder.fit_transform(data['Network Segment'])\n",
    "data['Geo-location Data'] = labelencoder.fit_transform(data['Geo-location Data'])\n",
    "data['Proxy Information'] = labelencoder.fit_transform(data['Proxy Information'])\n",
    "data['Firewall Logs'] = labelencoder.fit_transform(data['Firewall Logs'])\n",
    "data['IDS/IPS Alerts'] = labelencoder.fit_transform(data['IDS/IPS Alerts'])\n",
    "data['Log Source'] = labelencoder.fit_transform(data['Log Source'])\n",
    "data['Device Information'] = labelencoder.fit_transform(data['Device Information'])\n"
   ]
  },
  {
   "cell_type": "markdown",
   "metadata": {},
   "source": [
    "---\n",
    "\n",
    "Task 1.\n",
    "\n",
    "a. Knn Classification"
   ]
  },
  {
   "cell_type": "code",
   "execution_count": null,
   "metadata": {},
   "outputs": [],
   "source": [
    "x = df[['Source IP Address', 'Destination IP Address', 'Source Port', 'Destination Port', 'Protocol', 'Packet Length', 'Packet Type', 'Traffic Type', 'Payload Data']]\n",
    "\n",
    "y = data['Attack Type']\n",
    "\n",
    "xtrain,xtest,ytrain,ytest = train_test_split(x, y, test_size=0.25)\n",
    "\n",
    "Knn = KNeighborsClassifier(n_neighbors=9)\n",
    "\n",
    "Knn.fit(xtrain, ytrain)\n",
    "\n",
    "ypred = Knn.predict(xtest)\n",
    "\n",
    "print(\"Accuracy: \", accuracy_score(ytest, ypred))"
   ]
  },
  {
   "cell_type": "markdown",
   "metadata": {},
   "source": [
    "b. Decision Tree Classification"
   ]
  },
  {
   "cell_type": "code",
   "execution_count": null,
   "metadata": {},
   "outputs": [],
   "source": [
    "classifier = DecisionTreeClassifier(criterion='entropy', random_state=0, max_depth=3)\n",
    "\n",
    "x = df[['Source IP Address', 'Destination IP Address', 'Source Port', 'Destination Port', 'Protocol', 'Packet Length', 'Packet Type', 'Traffic Type', 'Payload Data']]\n",
    "\n",
    "y = data['Attack Type']\n",
    "\n",
    "xtrain, xtest, ytrain, ytest = train_test_split(x, y, test_size=0.25, random_state=0)\n",
    "\n",
    "classifier.fit(xtrain, ytrain)\n",
    "\n",
    "ypred = classifier.predict(xtest)\n",
    "\n",
    "print(\"Accuracy:\", accuracy_score(ytest, ypred))\n",
    "\n",
    "from sklearn.tree import plot_tree\n",
    "plt.figure(figsize=(20, 20))\n",
    "plot_tree(classifier, filled=True, feature_names=data.columns[:-1], class_names=True)\n",
    "plt.show()"
   ]
  },
  {
   "cell_type": "markdown",
   "metadata": {},
   "source": [
    "---\n",
    "\n",
    "Task 2.\n",
    "\n",
    "Hyper-parameter tuning"
   ]
  },
  {
   "cell_type": "code",
   "execution_count": null,
   "metadata": {},
   "outputs": [],
   "source": [
    "# code"
   ]
  },
  {
   "cell_type": "markdown",
   "metadata": {},
   "source": [
    "---\n",
    "\n",
    "Task 3.\n",
    "\n",
    "Evaluation "
   ]
  },
  {
   "cell_type": "code",
   "execution_count": null,
   "metadata": {},
   "outputs": [],
   "source": [
    "# code"
   ]
  }
 ],
 "metadata": {
  "kernelspec": {
   "display_name": "Python 3",
   "language": "python",
   "name": "python3"
  },
  "language_info": {
   "codemirror_mode": {
    "name": "ipython",
    "version": 3
   },
   "file_extension": ".py",
   "mimetype": "text/x-python",
   "name": "python",
   "nbconvert_exporter": "python",
   "pygments_lexer": "ipython3",
   "version": "3.10.11"
  }
 },
 "nbformat": 4,
 "nbformat_minor": 2
}
